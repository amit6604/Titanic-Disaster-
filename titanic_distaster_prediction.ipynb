{
  "cells": [
    {
      "metadata": {
        "trusted": true,
        "_uuid": "ef566dc64380682e2928c667e97dfa8f45dbf86d"
      },
      "cell_type": "code",
      "source": "#importing libraries\nimport pandas as pd\nimport numpy as np\nfrom matplotlib import pyplot as plt\n%matplotlib inline\nimport seaborn as sns",
      "execution_count": null,
      "outputs": []
    },
    {
      "metadata": {
        "trusted": true,
        "_uuid": "5897e854861b2e5a66bfa4b0a1c52cca1d81db14"
      },
      "cell_type": "code",
      "source": "#Loading Data\ntrain = pd.read_csv('../input/train.csv')\ntest = pd.read_csv('../input/test.csv')",
      "execution_count": null,
      "outputs": []
    },
    {
      "metadata": {
        "trusted": true,
        "_uuid": "bebfcb41871b48475c5dc2d582c6d64deb924444"
      },
      "cell_type": "code",
      "source": "train.head()",
      "execution_count": null,
      "outputs": []
    },
    {
      "metadata": {
        "trusted": true,
        "_uuid": "f8698502c0db6c20a98b3414be4f78bc1faf9382"
      },
      "cell_type": "code",
      "source": "test.head()",
      "execution_count": null,
      "outputs": []
    },
    {
      "metadata": {
        "trusted": true,
        "_uuid": "4ddea214bd3d0ecce0640ecdfe5032b4b301a21b"
      },
      "cell_type": "code",
      "source": "train.shape\n",
      "execution_count": null,
      "outputs": []
    },
    {
      "metadata": {
        "trusted": true,
        "_uuid": "8384ab42049e2c85bf34c4ec03eda391db63ed81"
      },
      "cell_type": "code",
      "source": "test.shape",
      "execution_count": null,
      "outputs": []
    },
    {
      "metadata": {
        "trusted": true,
        "_uuid": "57c6d659fdc8e4cdf7825044c6a16a8ade13b546"
      },
      "cell_type": "code",
      "source": "\ntrain.info()",
      "execution_count": null,
      "outputs": []
    },
    {
      "metadata": {
        "trusted": true,
        "_uuid": "fb6e6c8662878d725e08d238b714c696b3006e8b"
      },
      "cell_type": "code",
      "source": "test.info()",
      "execution_count": null,
      "outputs": []
    },
    {
      "metadata": {
        "trusted": true,
        "_uuid": "1c38e67788428070e9a390f5fc9f5d70b3de74bf"
      },
      "cell_type": "code",
      "source": "train.isnull().sum()",
      "execution_count": null,
      "outputs": []
    },
    {
      "metadata": {
        "trusted": true,
        "_uuid": "93cfef6514fcbc8c3badad3302ac86f7d23401cb"
      },
      "cell_type": "code",
      "source": "test.isnull().sum()",
      "execution_count": null,
      "outputs": []
    },
    {
      "metadata": {
        "_uuid": "75bce7fe15583536790582cc666e5cb7050d4104"
      },
      "cell_type": "markdown",
      "source": "# Bar Chart for Categorical Features for Visualization\n\n - Pclass(Passenger Class)\n - Sex\n - SibSp(Number of siblings and spouse)\n - Parch (Number of Parents and Children)"
    },
    {
      "metadata": {
        "trusted": true,
        "_uuid": "ea79af99980248bb678fdad443d95011380ebd42"
      },
      "cell_type": "code",
      "source": "def bar_chart(feature):\n    survived = train[train['Survived']==1][feature].value_counts()\n    dead = train[train['Survived']==0][feature].value_counts()\n    df = pd.DataFrame([survived,dead])\n    df.index = ['Survived','Dead']\n    df.plot(kind = 'bar',stacked=True,figsize=(10,5))",
      "execution_count": null,
      "outputs": []
    },
    {
      "metadata": {
        "trusted": true,
        "_uuid": "991838e2da20908c71dd36211976880dadba8e20"
      },
      "cell_type": "code",
      "source": "bar_chart('Sex')",
      "execution_count": null,
      "outputs": []
    },
    {
      "metadata": {
        "trusted": true,
        "_uuid": "df9eca7726fbf191b658b8f4d8d70742d74c6e55"
      },
      "cell_type": "code",
      "source": "bar_chart('Pclass')",
      "execution_count": null,
      "outputs": []
    },
    {
      "metadata": {
        "trusted": true,
        "_uuid": "ce42839bf61c4b7be51784181d4a602cfcb7a5f4"
      },
      "cell_type": "code",
      "source": "bar_chart('SibSp')",
      "execution_count": null,
      "outputs": []
    },
    {
      "metadata": {
        "trusted": true,
        "_uuid": "4d44f2370929a1dd09e74e0cc5c14c11375a5107"
      },
      "cell_type": "code",
      "source": "#Combining Dataset\ntrain_test_data = [train,test]\n\nfor data in train_test_data:\n    data['Title'] = data['Name'].str.extract('([A-Za-z]+)\\.',expand = False)",
      "execution_count": null,
      "outputs": []
    },
    {
      "metadata": {
        "trusted": true,
        "_uuid": "13009b6eec0bc710bdb80ec43291ba6693b33708"
      },
      "cell_type": "code",
      "source": "train.Title.value_counts()\ntrain.Title.isnull().sum()",
      "execution_count": null,
      "outputs": []
    },
    {
      "metadata": {
        "trusted": true,
        "_uuid": "ad00c64e230c1c77c1f1e83bf8574bbb83ce1b71"
      },
      "cell_type": "code",
      "source": "test.Title.value_counts()\ntest.Title.isnull().sum()",
      "execution_count": null,
      "outputs": []
    },
    {
      "metadata": {
        "trusted": true,
        "_uuid": "f381af425d3de892dab7a45b8b66d0006677d8fa"
      },
      "cell_type": "code",
      "source": "#Map each Title\n'''\nMr as 0\nMiss as 1\nMrs as 2\nOther as 3'''\n\nmap_title = {\"Mr\": 0, \"Miss\": 1, \"Mrs\": 2, \"Master\": 3, \"Dr\": 3, \"Rev\": 3, \"Col\": 3, \"Major\": 3, \"Mlle\": 3,\"Countess\": 3,\n                 \"Ms\": 3, \"Lady\": 3, \"Jonkheer\": 3, \"Don\": 3, \"Dona\" : 3, \"Mme\": 3,\"Capt\": 3,\"Sir\": 3 ,\"Dona\":3}\nfor data in train_test_data:\n    data['Title'] = data['Title'].map(map_title)\n    ",
      "execution_count": null,
      "outputs": []
    },
    {
      "metadata": {
        "trusted": true,
        "_uuid": "e1fb71c7a77573589cce375b3c949dd69037701d"
      },
      "cell_type": "code",
      "source": "bar_chart(\"Title\")",
      "execution_count": null,
      "outputs": []
    },
    {
      "metadata": {
        "trusted": true,
        "_uuid": "04c29e9c9bb1d5b63805b888ad55406d8ad8ae72"
      },
      "cell_type": "code",
      "source": "\ntrain.head()",
      "execution_count": null,
      "outputs": []
    },
    {
      "metadata": {
        "trusted": true,
        "_uuid": "152bdedbe1abf0b18512db328ff311ecbfc2a48f"
      },
      "cell_type": "code",
      "source": "test.tail()",
      "execution_count": null,
      "outputs": []
    },
    {
      "metadata": {
        "trusted": true,
        "_uuid": "eb8ee83d3fc6a236b2d3a96164c78229808bceb2"
      },
      "cell_type": "code",
      "source": "#Map Sex Male:0 ,Female :1\nsex_mapping = {\"male\":0 ,\"female\":1}\nfor data in train_test_data:\n    data['Sex'] = data['Sex'].map(sex_mapping)",
      "execution_count": null,
      "outputs": []
    },
    {
      "metadata": {
        "trusted": true,
        "_uuid": "b60f5e726ca3e3e6526493bdc3db542546e1de1f"
      },
      "cell_type": "code",
      "source": "bar_chart('Sex')",
      "execution_count": null,
      "outputs": []
    },
    {
      "metadata": {
        "trusted": true,
        "_uuid": "e0ce7b058ad062d0a39b4871f8ce08c3761461ae"
      },
      "cell_type": "code",
      "source": "#counts of null values in age \nprint(train[\"Age\"].isnull().sum())\nprint(test[\"Age\"].isnull().sum())",
      "execution_count": null,
      "outputs": []
    },
    {
      "metadata": {
        "trusted": true,
        "_uuid": "43dbe6dbde72520ed105d98e6f37c43ef76679e5"
      },
      "cell_type": "code",
      "source": "#Filling missing age with median age for each title\ntrain[\"Age\"].fillna(train.groupby(\"Title\")[\"Age\"].transform(\"median\"),inplace = True)\ntest[\"Age\"].fillna(train.groupby(\"Title\")[\"Age\"].transform(\"median\"),inplace = True)",
      "execution_count": null,
      "outputs": []
    },
    {
      "metadata": {
        "trusted": true,
        "_uuid": "cebd4989f48a7c6c929e47bde177900da11e68d2"
      },
      "cell_type": "code",
      "source": "train[\"Age\"].isnull().sum()\n",
      "execution_count": null,
      "outputs": []
    },
    {
      "metadata": {
        "_uuid": "8cb95426077a7489a35b90a744fe1e63dfb1ee3a"
      },
      "cell_type": "markdown",
      "source": "# Converting numerical age value to binary values\n\nchild:0 <br>\nyoung:1 <br>\nadult:2 <br>\nmid-age:3 <br>\nsenior:4 <br>"
    },
    {
      "metadata": {
        "trusted": true,
        "_uuid": "ed726dd8a1a161dd8bf3db9157ea56ec4c84d052"
      },
      "cell_type": "code",
      "source": "for dataset in train_test_data:\n    dataset.loc[ dataset['Age'] <= 16, 'Age'] = 0,\n    dataset.loc[(dataset['Age'] > 16) & (dataset['Age'] <= 26), 'Age'] = 1,\n    dataset.loc[(dataset['Age'] > 26) & (dataset['Age'] <= 36), 'Age'] = 2,\n    dataset.loc[(dataset['Age'] > 36) & (dataset['Age'] <= 62), 'Age'] = 3,\n    dataset.loc[ dataset['Age'] > 62, 'Age'] = 4",
      "execution_count": null,
      "outputs": []
    },
    {
      "metadata": {
        "trusted": true,
        "_uuid": "993ab17ab72a6b912c9519ac04aa27e8fbeeff59"
      },
      "cell_type": "code",
      "source": "train.head()",
      "execution_count": null,
      "outputs": []
    },
    {
      "metadata": {
        "trusted": true,
        "_uuid": "239b963bf32c8a225a709bf55a9965544ae0b56a"
      },
      "cell_type": "code",
      "source": "bar_chart(\"Age\")",
      "execution_count": null,
      "outputs": []
    },
    {
      "metadata": {
        "_uuid": "c157742a3f94b325dc717867abc16ee6df50dba0"
      },
      "cell_type": "markdown",
      "source": "# Embarked\n\n##Filling missing values"
    },
    {
      "metadata": {
        "trusted": true,
        "_uuid": "90b99d5e10a8086f915651b26df575ab12bb33c9"
      },
      "cell_type": "code",
      "source": "train[\"Embarked\"].isnull().sum()\nPclass1 = train[train['Pclass']==1]['Embarked'].value_counts()\nPclass2 = train[train['Pclass']==2]['Embarked'].value_counts()\nPclass3 = train[train['Pclass']==3]['Embarked'].value_counts()\ndf = pd.DataFrame([Pclass1, Pclass2, Pclass3])\ndf.index  =['1st Class' , '2nd Class', '3rd Class']\ndf.plot(kind = 'bar',stacked = True,figsize = (10,5))",
      "execution_count": null,
      "outputs": []
    },
    {
      "metadata": {
        "_uuid": "f4cc1fcffa29a2b24e44fe1ae6f345c20f6793b7"
      },
      "cell_type": "markdown",
      "source": "\n# Fill out missing embark with S embark"
    },
    {
      "metadata": {
        "trusted": true,
        "_uuid": "0d9f52bdfd84fbd5e119a379aa1d78c2edcd077a"
      },
      "cell_type": "code",
      "source": "for data in train_test_data:\n    data['Embarked'] = data['Embarked'].fillna('S')",
      "execution_count": null,
      "outputs": []
    },
    {
      "metadata": {
        "trusted": true,
        "_uuid": "bfeb04832ad1e10928d3b745eba8ae9e44ef0275"
      },
      "cell_type": "code",
      "source": "train['Embarked'].isnull().sum()",
      "execution_count": null,
      "outputs": []
    },
    {
      "metadata": {
        "trusted": true,
        "_uuid": "7c8cf17ac4989a333bcb7316737f74a518aafd5a"
      },
      "cell_type": "code",
      "source": "#Map Each Embark with Numerical Vaues\nembark_mapping = { \"S\":0,\"C\":1,\"Q\":2}\nfor data in train_test_data:\n    data['Embarked'] = data['Embarked'].map(embark_mapping)",
      "execution_count": null,
      "outputs": []
    },
    {
      "metadata": {
        "_uuid": "adaafd5b496353c911257fe54bc50540db9ee296"
      },
      "cell_type": "markdown",
      "source": "# Fare"
    },
    {
      "metadata": {
        "trusted": true,
        "_uuid": "62fb41bda16db860d87b7b3aed79b826d2d244dc"
      },
      "cell_type": "code",
      "source": "#Fill Out missing Fare value with median fare for each Passenger Class\ntrain[\"Fare\"].fillna(train.groupby(\"Pclass\")[\"Fare\"].transform(\"median\"),inplace = True)\ntest[\"Fare\"].fillna(test.groupby(\"Pclass\")[\"Fare\"].transform(\"median\"),inplace = True)\ntrain.head()",
      "execution_count": null,
      "outputs": []
    },
    {
      "metadata": {
        "trusted": true,
        "_uuid": "c0fb12b2bf7e63ffd6f0e619d32774febc8950ee"
      },
      "cell_type": "code",
      "source": "train.head()",
      "execution_count": null,
      "outputs": []
    },
    {
      "metadata": {
        "trusted": true,
        "_uuid": "aa5ff18388ca4629e5c74a16ab91b48f31778cb9"
      },
      "cell_type": "code",
      "source": "test.head()",
      "execution_count": null,
      "outputs": []
    },
    {
      "metadata": {
        "trusted": true,
        "_uuid": "828e32cfcb82fee440a22552a7c9a3aa9d9541de"
      },
      "cell_type": "code",
      "source": "#Drop unnecessary features\nfeatures_drop  = ['Name','Ticket','Cabin']\ntrain = train.drop(features_drop, axis = 1)\ntest = test.drop(features_drop,axis = 1)\ntrain = train.drop('PassengerId',axis = 1)",
      "execution_count": null,
      "outputs": []
    },
    {
      "metadata": {
        "trusted": true,
        "_uuid": "b62c958df69a79d3f427632e7ac4e52194ba8b0f"
      },
      "cell_type": "code",
      "source": "train_data = train.drop('Survived' , axis = 1)\ntarget = train['Survived']\ntrain.head()",
      "execution_count": null,
      "outputs": []
    },
    {
      "metadata": {
        "trusted": true,
        "_uuid": "9251c85e94f5263bb6395981abc61c2530242017"
      },
      "cell_type": "code",
      "source": "test.head()",
      "execution_count": null,
      "outputs": []
    },
    {
      "metadata": {
        "_uuid": "b0226175e2b8f5dac704d8c3a573bd7fd3f5086b"
      },
      "cell_type": "markdown",
      "source": "# Modelling "
    },
    {
      "metadata": {
        "trusted": true,
        "_uuid": "a4eecf59ebc61021fd720ba2f8bec9fe7fc6423c"
      },
      "cell_type": "code",
      "source": "from sklearn.linear_model import LogisticRegression\nfrom sklearn.neighbors import KNeighborsClassifier\nfrom sklearn.tree import DecisionTreeClassifier\nfrom sklearn.ensemble import RandomForestClassifier\nfrom sklearn.naive_bayes import GaussianNB\nfrom sklearn.svm import SVC",
      "execution_count": null,
      "outputs": []
    },
    {
      "metadata": {
        "_uuid": "9f75b05338b19e917ad442c83ae261eedf7330a2"
      },
      "cell_type": "markdown",
      "source": "# Cross Validation (K-fold)"
    },
    {
      "metadata": {
        "trusted": true,
        "_uuid": "7fc8b47682c2a5e365313d127dfedc9c744ecdcd"
      },
      "cell_type": "code",
      "source": "from sklearn.model_selection import KFold\nfrom sklearn.model_selection import cross_val_score\nk_fold = KFold(n_splits = 10, shuffle = True , random_state = 0)",
      "execution_count": null,
      "outputs": []
    },
    {
      "metadata": {
        "_uuid": "c2885f74c012aaafb0756c362b53f447b1550cb3"
      },
      "cell_type": "markdown",
      "source": "# KNN"
    },
    {
      "metadata": {
        "trusted": true,
        "_uuid": "eeac7754ef361521623823c362b6819976efba29"
      },
      "cell_type": "code",
      "source": "knn = KNeighborsClassifier(n_neighbors = 10)\nscore = cross_val_score(knn ,train_data , target,cv = k_fold,n_jobs = 1 , scoring='accuracy')\nprint(score)",
      "execution_count": null,
      "outputs": []
    },
    {
      "metadata": {
        "trusted": true,
        "_uuid": "5f337b3221dc8e50d4f2d49d8d851b86c4ad0755"
      },
      "cell_type": "code",
      "source": "#KNN score mean\nround(np.mean(score)*100,2)",
      "execution_count": null,
      "outputs": []
    },
    {
      "metadata": {
        "_uuid": "7277ba7e1c2fc80a2d5952d12435b200b184b658"
      },
      "cell_type": "markdown",
      "source": "# Logistic Regression"
    },
    {
      "metadata": {
        "trusted": true,
        "_uuid": "34757339ed29fff291be9f30a7eea3895b68d2cf"
      },
      "cell_type": "code",
      "source": "logreg = LogisticRegression()\nscore = cross_val_score(knn ,train_data , target,cv = k_fold,n_jobs = 1 , scoring='accuracy')\nprint(score)",
      "execution_count": null,
      "outputs": []
    },
    {
      "metadata": {
        "trusted": true,
        "_uuid": "3e99caf2e73fdb6da802a02429d347fa36fbcbd7"
      },
      "cell_type": "code",
      "source": "#Logistic Regression Score\nround(np.mean(score)*100,2)",
      "execution_count": null,
      "outputs": []
    },
    {
      "metadata": {
        "trusted": true,
        "_uuid": "3758728b5cfd4705ca0dd9c606e81d21d043da30"
      },
      "cell_type": "markdown",
      "source": "# Decision Tree"
    },
    {
      "metadata": {
        "trusted": true,
        "_uuid": "ef8b20e5ebc550727c0296f09b4ecbfa3e7ee779"
      },
      "cell_type": "code",
      "source": "DecTree = DecisionTreeClassifier()\nscore = cross_val_score(knn ,train_data , target,cv = k_fold,n_jobs = 1 , scoring='accuracy')\nprint(score)",
      "execution_count": null,
      "outputs": []
    },
    {
      "metadata": {
        "trusted": true,
        "_uuid": "e604cefeba3beea5843dd0f80465f1fbe2686e03"
      },
      "cell_type": "code",
      "source": "round(np.mean(score)*100,2)",
      "execution_count": null,
      "outputs": []
    },
    {
      "metadata": {
        "_uuid": "aa0c7b50681b6e0e082c0bf5f81b894c2268d23a"
      },
      "cell_type": "markdown",
      "source": "# Random Forest"
    },
    {
      "metadata": {
        "trusted": true,
        "_uuid": "09170bcfc605d626901669ca8f21b8ff98623be1"
      },
      "cell_type": "code",
      "source": "rand = RandomForestClassifier(n_estimators=12)\nscore = cross_val_score(rand, train_data,target , cv = k_fold ,n_jobs =1 , scoring = 'accuracy')\nprint(score)",
      "execution_count": null,
      "outputs": []
    },
    {
      "metadata": {
        "trusted": true,
        "_uuid": "059fb85d7f626e66208f319ca5e00cad944477b7"
      },
      "cell_type": "code",
      "source": "round(np.mean(score)*100,2)",
      "execution_count": null,
      "outputs": []
    },
    {
      "metadata": {
        "_uuid": "6b393ee57f09d61eefff594897239cea43d2320b"
      },
      "cell_type": "markdown",
      "source": "# Naive Bayes"
    },
    {
      "metadata": {
        "trusted": true,
        "_uuid": "1f0f40cc26ca0735021e863c757d5906e70aa736"
      },
      "cell_type": "code",
      "source": "NB_clf = GaussianNB()\nscore = cross_val_score(NB_clf , train_data, target , cv = k_fold, n_jobs = 1, scoring='accuracy')\nprint(score)",
      "execution_count": null,
      "outputs": []
    },
    {
      "metadata": {
        "trusted": true,
        "_uuid": "6321caf43fcaa8a8c821a1a4c6079daaf107a440"
      },
      "cell_type": "code",
      "source": "round(np.mean(score)*100,2)",
      "execution_count": null,
      "outputs": []
    },
    {
      "metadata": {
        "_uuid": "075f52d437a7c902c39e273902bc999c834ccf55"
      },
      "cell_type": "markdown",
      "source": "# SVM"
    },
    {
      "metadata": {
        "trusted": true,
        "_uuid": "79ea3d3dc988e200771f78a8164e4093a9d8f68b"
      },
      "cell_type": "code",
      "source": "clf = SVC()\nscore = cross_val_score(clf, train_data, target, cv=k_fold, n_jobs=1, scoring='accuracy')\nprint(score)",
      "execution_count": null,
      "outputs": []
    },
    {
      "metadata": {
        "trusted": true,
        "_uuid": "db6fa76b92beca81157195594023ebe789b31fa3"
      },
      "cell_type": "code",
      "source": "round(np.mean(score)*100,2)",
      "execution_count": null,
      "outputs": []
    },
    {
      "metadata": {
        "_uuid": "4ce54f04b2990e9080b054667423f29e517177e6"
      },
      "cell_type": "markdown",
      "source": "# Testing "
    },
    {
      "metadata": {
        "trusted": true,
        "_uuid": "5296b9cd4bb87ade3853389b8a9cfca45e0ccccb"
      },
      "cell_type": "code",
      "source": "clf = GaussianNB()\nclf.fit(train_data , target)\ntest_data = test.drop(\"PassengerId\", axis=1).copy()\nprediction = clf.predict(test_data)",
      "execution_count": null,
      "outputs": []
    },
    {
      "metadata": {
        "trusted": true,
        "_uuid": "3b08cf53384e47cb068cd3a6475f610226a008b6"
      },
      "cell_type": "code",
      "source": "submission = pd.DataFrame({\"PassengerId\":test[\"PassengerId\"],\"Survived\":prediction})",
      "execution_count": null,
      "outputs": []
    },
    {
      "metadata": {
        "trusted": true,
        "_uuid": "911d6a40e9b5e043304d723a821f13fa2c224227"
      },
      "cell_type": "code",
      "source": "submission.to_csv('Submission.csv',index=False)\nsubmission.head()",
      "execution_count": null,
      "outputs": []
    },
    {
      "metadata": {
        "trusted": true,
        "_uuid": "9942827111ac6b5bb0a910d55c18efa7e6d78587"
      },
      "cell_type": "code",
      "source": "",
      "execution_count": null,
      "outputs": []
    }
  ],
  "metadata": {
    "kernelspec": {
      "display_name": "Python 3",
      "language": "python",
      "name": "python3"
    },
    "language_info": {
      "name": "python",
      "version": "3.6.6",
      "mimetype": "text/x-python",
      "codemirror_mode": {
        "name": "ipython",
        "version": 3
      },
      "pygments_lexer": "ipython3",
      "nbconvert_exporter": "python",
      "file_extension": ".py"
    }
  },
  "nbformat": 4,
  "nbformat_minor": 1
}